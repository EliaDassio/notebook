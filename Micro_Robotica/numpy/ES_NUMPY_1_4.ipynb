{
 "cells": [
  {
   "cell_type": "code",
   "execution_count": 3,
   "id": "5e22fcbb",
   "metadata": {},
   "outputs": [],
   "source": [
    "import numpy as np"
   ]
  },
  {
   "cell_type": "markdown",
   "id": "e3ed5614",
   "metadata": {},
   "source": [
    "### Es 1"
   ]
  },
  {
   "cell_type": "markdown",
   "id": "7502df84",
   "metadata": {},
   "source": [
    " Creare una matrice fatta scacchiera 8x8 alternando 0 e 1 (la prima cella è uno 0) "
   ]
  },
  {
   "cell_type": "code",
   "execution_count": 6,
   "id": "a996b2c6",
   "metadata": {},
   "outputs": [
    {
     "data": {
      "text/plain": [
       "array([[0., 0., 0., 0., 0., 0., 0., 0.],\n",
       "       [0., 0., 0., 0., 0., 0., 0., 0.],\n",
       "       [0., 0., 0., 0., 0., 0., 0., 0.],\n",
       "       [0., 0., 0., 0., 0., 0., 0., 0.],\n",
       "       [0., 0., 0., 0., 0., 0., 0., 0.],\n",
       "       [0., 0., 0., 0., 0., 0., 0., 0.],\n",
       "       [0., 0., 0., 0., 0., 0., 0., 0.],\n",
       "       [0., 0., 0., 0., 0., 0., 0., 0.]])"
      ]
     },
     "execution_count": 6,
     "metadata": {},
     "output_type": "execute_result"
    }
   ],
   "source": [
    "scacchiera = np.zeros(shape=(8,8))\n",
    "scacchiera"
   ]
  },
  {
   "cell_type": "code",
   "execution_count": 10,
   "id": "502a5ce8",
   "metadata": {},
   "outputs": [
    {
     "data": {
      "text/plain": [
       "array([[0, 1],\n",
       "       [0, 3],\n",
       "       [0, 5],\n",
       "       [0, 7],\n",
       "       [1, 0],\n",
       "       [1, 2],\n",
       "       [1, 4],\n",
       "       [1, 6],\n",
       "       [2, 1],\n",
       "       [2, 3],\n",
       "       [2, 5],\n",
       "       [2, 7],\n",
       "       [3, 0],\n",
       "       [3, 2],\n",
       "       [3, 4],\n",
       "       [3, 6],\n",
       "       [4, 1],\n",
       "       [4, 3],\n",
       "       [4, 5],\n",
       "       [4, 7],\n",
       "       [5, 0],\n",
       "       [5, 2],\n",
       "       [5, 4],\n",
       "       [5, 6],\n",
       "       [6, 1],\n",
       "       [6, 3],\n",
       "       [6, 5],\n",
       "       [6, 7],\n",
       "       [7, 0],\n",
       "       [7, 2],\n",
       "       [7, 4],\n",
       "       [7, 6]])"
      ]
     },
     "execution_count": 10,
     "metadata": {},
     "output_type": "execute_result"
    }
   ],
   "source": [
    "indici = np.array([[i,j] for i in range(8) for j in range(8) if (i+j)%2==1])\n",
    "indici"
   ]
  },
  {
   "cell_type": "code",
   "execution_count": 12,
   "id": "b6855c61",
   "metadata": {},
   "outputs": [
    {
     "data": {
      "text/plain": [
       "array([[0., 1., 0., 1., 0., 1., 0., 1.],\n",
       "       [1., 0., 1., 0., 1., 0., 1., 0.],\n",
       "       [0., 1., 0., 1., 0., 1., 0., 1.],\n",
       "       [1., 0., 1., 0., 1., 0., 1., 0.],\n",
       "       [0., 1., 0., 1., 0., 1., 0., 1.],\n",
       "       [1., 0., 1., 0., 1., 0., 1., 0.],\n",
       "       [0., 1., 0., 1., 0., 1., 0., 1.],\n",
       "       [1., 0., 1., 0., 1., 0., 1., 0.]])"
      ]
     },
     "execution_count": 12,
     "metadata": {},
     "output_type": "execute_result"
    }
   ],
   "source": [
    "scacchiera = np.zeros(shape=(8,8))\n",
    "scacchiera [indici.T[0],indici.T[1]]=1\n",
    "scacchiera"
   ]
  },
  {
   "cell_type": "markdown",
   "id": "87de4a0a",
   "metadata": {},
   "source": [
    "### Es 2"
   ]
  },
  {
   "cell_type": "markdown",
   "id": "b929ee82",
   "metadata": {},
   "source": [
    "Considerando l'array: Z = [1,2,3,4,5,6,7,8,9,10,11,12,13,14], generare un array R = [[1,2,3,4], [2,3,4,5], [3,4,5,6], ..., [11,12,13,14]]."
   ]
  },
  {
   "cell_type": "code",
   "execution_count": 13,
   "id": "a61f5959",
   "metadata": {},
   "outputs": [
    {
     "data": {
      "text/plain": [
       "array([ 1,  2,  3,  4,  5,  6,  7,  8,  9, 10, 11, 12, 13, 14])"
      ]
     },
     "execution_count": 13,
     "metadata": {},
     "output_type": "execute_result"
    }
   ],
   "source": [
    "Z = np.arange(1,15)\n",
    "Z"
   ]
  },
  {
   "cell_type": "code",
   "execution_count": 14,
   "id": "e34e61c9",
   "metadata": {},
   "outputs": [
    {
     "data": {
      "text/plain": [
       "array([ 0,  1,  2,  3,  1,  2,  3,  4,  2,  3,  4,  5,  3,  4,  5,  6,  4,\n",
       "        5,  6,  7,  5,  6,  7,  8,  6,  7,  8,  9,  7,  8,  9, 10,  8,  9,\n",
       "       10, 11,  9, 10, 11, 12, 10, 11, 12, 13])"
      ]
     },
     "execution_count": 14,
     "metadata": {},
     "output_type": "execute_result"
    }
   ],
   "source": [
    "indici= np.array([i+j for i in range(0,11) for j in range(0,4)])\n",
    "indici"
   ]
  },
  {
   "cell_type": "code",
   "execution_count": 15,
   "id": "697c123f",
   "metadata": {},
   "outputs": [
    {
     "data": {
      "text/plain": [
       "array([[ 1,  2,  3,  4],\n",
       "       [ 2,  3,  4,  5],\n",
       "       [ 3,  4,  5,  6],\n",
       "       [ 4,  5,  6,  7],\n",
       "       [ 5,  6,  7,  8],\n",
       "       [ 6,  7,  8,  9],\n",
       "       [ 7,  8,  9, 10],\n",
       "       [ 8,  9, 10, 11],\n",
       "       [ 9, 10, 11, 12],\n",
       "       [10, 11, 12, 13],\n",
       "       [11, 12, 13, 14]])"
      ]
     },
     "execution_count": 15,
     "metadata": {},
     "output_type": "execute_result"
    }
   ],
   "source": [
    "Z[indici].reshape((11,-1))"
   ]
  },
  {
   "cell_type": "markdown",
   "id": "f5eb5596",
   "metadata": {},
   "source": [
    "### Es 3"
   ]
  },
  {
   "cell_type": "markdown",
   "id": "c9426961",
   "metadata": {},
   "source": [
    "Usando la funzione numpy.random.normal(mean, dev, shape) generare un ndarray che contenga la stima dell'altezza degli alunni della classe. L'ndarray deve avere lunghezza pari al numero di compagni di classe. I valori mean e dev devono essere stimati in modo tale da simulare la distribuzione dell'altezza degli alunni in cm nel modo più realistico possibile."
   ]
  },
  {
   "cell_type": "code",
   "execution_count": 24,
   "id": "00d52650",
   "metadata": {},
   "outputs": [
    {
     "data": {
      "text/plain": [
       "array([180, 171, 182, 175, 177, 175, 179, 185, 185, 190, 176])"
      ]
     },
     "execution_count": 24,
     "metadata": {},
     "output_type": "execute_result"
    }
   ],
   "source": [
    "altezze = np.array([180, 171, 182, 175, 177, 175, 179, 185, 185, 190, 176])\n",
    "altezze"
   ]
  },
  {
   "cell_type": "code",
   "execution_count": 25,
   "id": "a276c07f",
   "metadata": {},
   "outputs": [
    {
     "data": {
      "text/plain": [
       "179.54545454545453"
      ]
     },
     "execution_count": 25,
     "metadata": {},
     "output_type": "execute_result"
    }
   ],
   "source": [
    "media = np.average(altezze)\n",
    "media"
   ]
  },
  {
   "cell_type": "code",
   "execution_count": 41,
   "id": "82fd237d",
   "metadata": {},
   "outputs": [
    {
     "data": {
      "text/plain": [
       "array([32400, 29241, 33124, 30625, 31329, 30625, 32041, 34225, 34225,\n",
       "       36100, 30976], dtype=int32)"
      ]
     },
     "execution_count": 41,
     "metadata": {},
     "output_type": "execute_result"
    }
   ],
   "source": [
    "altezze_quadrato = altezze**2\n",
    "altezze_quadrato"
   ]
  },
  {
   "cell_type": "code",
   "execution_count": 42,
   "id": "4d81c9d2",
   "metadata": {},
   "outputs": [
    {
     "data": {
      "text/plain": [
       "32264.636363636364"
      ]
     },
     "execution_count": 42,
     "metadata": {},
     "output_type": "execute_result"
    }
   ],
   "source": [
    "media_quadrato = np.average(altezze_quadrato)\n",
    "media_quadrato"
   ]
  },
  {
   "cell_type": "code",
   "execution_count": 43,
   "id": "682d0a24",
   "metadata": {},
   "outputs": [
    {
     "data": {
      "text/plain": [
       "5.297746285212631"
      ]
     },
     "execution_count": 43,
     "metadata": {},
     "output_type": "execute_result"
    }
   ],
   "source": [
    "devstd = np.sqrt(media_quadrato-media**2)\n",
    "devstd"
   ]
  },
  {
   "cell_type": "code",
   "execution_count": 47,
   "id": "e88a56a3",
   "metadata": {},
   "outputs": [
    {
     "data": {
      "text/plain": [
       "array([178.91292479, 187.07831573, 182.21221858, 183.52620115,\n",
       "       169.16631769, 176.57448264, 176.91988147, 181.67474515,\n",
       "       183.46935656, 180.01773891, 190.65945498, 181.76199826,\n",
       "       177.75445391, 169.72311769, 174.79979851, 177.59510144,\n",
       "       184.54420203, 168.01087662, 184.8853387 , 173.6949119 ])"
      ]
     },
     "execution_count": 47,
     "metadata": {},
     "output_type": "execute_result"
    }
   ],
   "source": [
    "np.random.normal(media,devstd,20)"
   ]
  },
  {
   "cell_type": "markdown",
   "id": "268fc880",
   "metadata": {},
   "source": [
    "### Es 4"
   ]
  },
  {
   "cell_type": "markdown",
   "id": "cb4d2186",
   "metadata": {},
   "source": [
    "Creare una matrice fatta come un bersaglio 10x10, le cornici concentriche hanno valori crescenti verso il centro (quella più esterna ha valori = 1)"
   ]
  },
  {
   "cell_type": "code",
   "execution_count": 22,
   "id": "dbc271c3",
   "metadata": {},
   "outputs": [
    {
     "name": "stdout",
     "output_type": "stream",
     "text": [
      "[[0. 0. 0. 0. 0. 0. 0. 0. 0. 0.]\n",
      " [0. 0. 0. 0. 0. 0. 0. 0. 0. 0.]\n",
      " [0. 0. 0. 0. 0. 0. 0. 0. 0. 0.]\n",
      " [0. 0. 0. 0. 0. 0. 0. 0. 0. 0.]\n",
      " [0. 0. 0. 0. 0. 0. 0. 0. 0. 0.]\n",
      " [0. 0. 0. 0. 0. 0. 0. 0. 0. 0.]\n",
      " [0. 0. 0. 0. 0. 0. 0. 0. 0. 0.]\n",
      " [0. 0. 0. 0. 0. 0. 0. 0. 0. 0.]\n",
      " [0. 0. 0. 0. 0. 0. 0. 0. 0. 0.]\n",
      " [0. 0. 0. 0. 0. 0. 0. 0. 0. 0.]]\n"
     ]
    }
   ],
   "source": [
    "s = 10\n",
    "Z = np.zeros(shape=(s,s))\n",
    "print(Z)"
   ]
  },
  {
   "cell_type": "code",
   "execution_count": 23,
   "id": "6bdc2ec1",
   "metadata": {},
   "outputs": [
    {
     "data": {
      "text/plain": [
       "array([[1., 1., 1., 1., 1., 1., 1., 1., 1., 1.],\n",
       "       [1., 2., 2., 2., 2., 2., 2., 2., 2., 1.],\n",
       "       [1., 2., 3., 3., 3., 3., 3., 3., 2., 1.],\n",
       "       [1., 2., 3., 4., 4., 4., 4., 3., 2., 1.],\n",
       "       [1., 2., 3., 4., 5., 5., 4., 3., 2., 1.],\n",
       "       [1., 2., 3., 4., 5., 5., 4., 3., 2., 1.],\n",
       "       [1., 2., 3., 4., 4., 4., 4., 3., 2., 1.],\n",
       "       [1., 2., 3., 3., 3., 3., 3., 3., 2., 1.],\n",
       "       [1., 2., 2., 2., 2., 2., 2., 2., 2., 1.],\n",
       "       [1., 1., 1., 1., 1., 1., 1., 1., 1., 1.]])"
      ]
     },
     "execution_count": 23,
     "metadata": {},
     "output_type": "execute_result"
    }
   ],
   "source": [
    "for i in range(s-1,-1,-1):\n",
    "    Z[:,i] = i+1\n",
    "    Z[:,s-i-1] = i+1\n",
    "    Z[i,:] = i+1\n",
    "    Z[s-i-1,:] = i+1\n",
    "    \n",
    "Z"
   ]
  }
 ],
 "metadata": {
  "kernelspec": {
   "display_name": "Python 3",
   "language": "python",
   "name": "python3"
  },
  "language_info": {
   "codemirror_mode": {
    "name": "ipython",
    "version": 3
   },
   "file_extension": ".py",
   "mimetype": "text/x-python",
   "name": "python",
   "nbconvert_exporter": "python",
   "pygments_lexer": "ipython3",
   "version": "3.8.8"
  }
 },
 "nbformat": 4,
 "nbformat_minor": 5
}
