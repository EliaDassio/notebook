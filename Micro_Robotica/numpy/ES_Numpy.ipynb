{
 "cells": [
  {
   "cell_type": "markdown",
   "id": "d09f3a47",
   "metadata": {},
   "source": [
    "### Esempio"
   ]
  },
  {
   "cell_type": "code",
   "execution_count": 2,
   "id": "0f76da76",
   "metadata": {},
   "outputs": [],
   "source": [
    "import numpy as np"
   ]
  },
  {
   "cell_type": "code",
   "execution_count": 3,
   "id": "8fe6d946",
   "metadata": {},
   "outputs": [
    {
     "name": "stdout",
     "output_type": "stream",
     "text": [
      "[4 3 5 4 6 5 6 5 5 2]\n",
      "[4 3 1 4 1 5 6 4 4 1]\n"
     ]
    }
   ],
   "source": [
    "dado_alice = np.random.randint(1,7,10)\n",
    "dado_bob = np.random.randint(1,7,10)\n",
    "print(dado_alice)\n",
    "print(dado_bob)"
   ]
  },
  {
   "cell_type": "code",
   "execution_count": 4,
   "id": "386e9ee1",
   "metadata": {},
   "outputs": [],
   "source": [
    "punteggi_vittoria_alice = dado_alice[dado_alice>dado_bob]"
   ]
  },
  {
   "cell_type": "code",
   "execution_count": 5,
   "id": "78697e3f",
   "metadata": {},
   "outputs": [
    {
     "data": {
      "text/plain": [
       "array([5, 6, 5, 5, 2])"
      ]
     },
     "execution_count": 5,
     "metadata": {},
     "output_type": "execute_result"
    }
   ],
   "source": [
    "punteggi_vittoria_alice"
   ]
  },
  {
   "cell_type": "code",
   "execution_count": 9,
   "id": "6d610c98",
   "metadata": {},
   "outputs": [
    {
     "name": "stdout",
     "output_type": "stream",
     "text": [
      "[[1 2 3]\n",
      " [4 5 6]\n",
      " [7 8 9]]\n"
     ]
    }
   ],
   "source": [
    "mat = np.array([[1,2,3],[4,5,6],[7,8,9]])\n",
    "print(mat)"
   ]
  },
  {
   "cell_type": "code",
   "execution_count": 12,
   "id": "61f90e9e",
   "metadata": {},
   "outputs": [
    {
     "data": {
      "text/plain": [
       "5"
      ]
     },
     "execution_count": 12,
     "metadata": {},
     "output_type": "execute_result"
    }
   ],
   "source": [
    "mat[1,1]"
   ]
  },
  {
   "cell_type": "code",
   "execution_count": 14,
   "id": "be35208a",
   "metadata": {},
   "outputs": [
    {
     "data": {
      "text/plain": [
       "array([3, 6, 9])"
      ]
     },
     "execution_count": 14,
     "metadata": {},
     "output_type": "execute_result"
    }
   ],
   "source": [
    "terza_colonna = mat[:,2]\n",
    "terza_colonna"
   ]
  },
  {
   "cell_type": "code",
   "execution_count": 15,
   "id": "4d183a76",
   "metadata": {},
   "outputs": [
    {
     "data": {
      "text/plain": [
       "array([[ 1,  2, 11],\n",
       "       [ 4,  5, 11],\n",
       "       [ 7,  8, 11]])"
      ]
     },
     "execution_count": 15,
     "metadata": {},
     "output_type": "execute_result"
    }
   ],
   "source": [
    "terza_colonna[...] = 11\n",
    "mat"
   ]
  },
  {
   "cell_type": "code",
   "execution_count": 16,
   "id": "809191bc",
   "metadata": {},
   "outputs": [
    {
     "data": {
      "text/plain": [
       "True"
      ]
     },
     "execution_count": 16,
     "metadata": {},
     "output_type": "execute_result"
    }
   ],
   "source": [
    "terza_colonna.base is mat"
   ]
  },
  {
   "cell_type": "code",
   "execution_count": 18,
   "id": "c5eed620",
   "metadata": {},
   "outputs": [
    {
     "name": "stdout",
     "output_type": "stream",
     "text": [
      "[[1 0 0 1 1 0 0 0 1 1]\n",
      " [1 0 0 1 0 1 0 0 1 0]\n",
      " [1 1 0 1 1 1 1 1 1 0]\n",
      " [0 0 0 1 0 1 0 1 1 0]\n",
      " [0 0 0 1 0 0 1 1 0 1]\n",
      " [0 1 0 0 1 1 1 0 1 0]\n",
      " [0 1 0 1 0 1 0 0 1 0]\n",
      " [1 1 1 0 0 1 0 0 1 0]\n",
      " [1 1 0 0 0 1 0 1 1 1]\n",
      " [0 0 0 0 0 0 1 0 0 0]]\n"
     ]
    }
   ],
   "source": [
    "mat= np.random.randint(0,2, size = (10,10))\n",
    "print(mat)"
   ]
  },
  {
   "cell_type": "code",
   "execution_count": 19,
   "id": "e35eafbe",
   "metadata": {},
   "outputs": [
    {
     "name": "stdout",
     "output_type": "stream",
     "text": [
      "[[0 0 0 0 0 0 0 0 0 0]\n",
      " [0 0 0 1 0 1 0 0 1 0]\n",
      " [0 1 0 1 1 1 1 1 1 0]\n",
      " [0 0 0 1 0 1 0 1 1 0]\n",
      " [0 0 0 1 0 0 1 1 0 0]\n",
      " [0 1 0 0 1 1 1 0 1 0]\n",
      " [0 1 0 1 0 1 0 0 1 0]\n",
      " [0 1 1 0 0 1 0 0 1 0]\n",
      " [0 1 0 0 0 1 0 1 1 0]\n",
      " [0 0 0 0 0 0 0 0 0 0]]\n"
     ]
    }
   ],
   "source": [
    "mat[:,9] = 0\n",
    "mat[:,0] = 0\n",
    "mat[0] = 0\n",
    "mat[9] = 0\n",
    "print(mat)"
   ]
  },
  {
   "cell_type": "code",
   "execution_count": 21,
   "id": "16badec3",
   "metadata": {},
   "outputs": [
    {
     "name": "stdout",
     "output_type": "stream",
     "text": [
      "[[4 3 8 9 0 5 7 0 1 3]\n",
      " [4 0 0 1 0 1 0 0 1 3]\n",
      " [3 1 0 1 1 1 1 1 1 2]\n",
      " [5 0 0 1 0 1 0 1 1 1]\n",
      " [9 0 0 1 0 0 1 1 0 7]\n",
      " [5 1 0 0 1 1 1 0 1 8]\n",
      " [2 1 0 1 0 1 0 0 1 5]\n",
      " [9 1 1 0 0 1 0 0 1 9]\n",
      " [7 1 0 0 0 1 0 1 1 9]\n",
      " [0 6 5 2 1 4 4 6 1 3]]\n"
     ]
    }
   ],
   "source": [
    "mat[:,9] = temp_array = np.random.randint(0,10, 10)\n",
    "mat[:,0] = temp_array = np.random.randint(0,10, 10)\n",
    "mat[0] = temp_array = np.random.randint(0,10, 10)\n",
    "mat[9] = temp_array = np.random.randint(0,10, 10)\n",
    "print(mat)"
   ]
  }
 ],
 "metadata": {
  "kernelspec": {
   "display_name": "Python 3",
   "language": "python",
   "name": "python3"
  },
  "language_info": {
   "codemirror_mode": {
    "name": "ipython",
    "version": 3
   },
   "file_extension": ".py",
   "mimetype": "text/x-python",
   "name": "python",
   "nbconvert_exporter": "python",
   "pygments_lexer": "ipython3",
   "version": "3.8.8"
  }
 },
 "nbformat": 4,
 "nbformat_minor": 5
}
