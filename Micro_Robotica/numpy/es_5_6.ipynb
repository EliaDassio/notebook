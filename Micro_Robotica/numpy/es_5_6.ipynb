{
 "cells": [
  {
   "cell_type": "markdown",
   "id": "5019c066",
   "metadata": {},
   "source": [
    "Creare una funzione che trovi gli elementi comuni a due ndarray monodimensionali di lunghezza diversa"
   ]
  },
  {
   "cell_type": "code",
   "execution_count": 2,
   "id": "62b0b154",
   "metadata": {},
   "outputs": [],
   "source": [
    "import numpy as np"
   ]
  },
  {
   "cell_type": "code",
   "execution_count": 3,
   "id": "439b667d",
   "metadata": {},
   "outputs": [],
   "source": [
    "a1 = np.random.randint(0, 100, size = 100)\n",
    "a2 = np.random.randint(0, 100, size = 100)"
   ]
  },
  {
   "cell_type": "code",
   "execution_count": 4,
   "id": "8d73becf",
   "metadata": {},
   "outputs": [
    {
     "data": {
      "text/plain": [
       "array([ 1,  3,  8, 19, 20, 21, 23, 26, 27, 28, 31, 32, 33, 36, 40, 43, 44,\n",
       "       47, 50, 52, 54, 56, 58, 59, 60, 61, 63, 65, 66, 67, 69, 70, 74, 76,\n",
       "       77, 78, 82, 85, 88, 89, 94, 99])"
      ]
     },
     "execution_count": 4,
     "metadata": {},
     "output_type": "execute_result"
    }
   ],
   "source": [
    "np.intersect1d(a1, a2)"
   ]
  },
  {
   "cell_type": "markdown",
   "id": "d1675d62",
   "metadata": {},
   "source": [
    "Usiamo Numpy per creare dei dati simulati riferiti ad una situazione reale: in certi casi i dati simulati sono una buona approssimazione della realtà. Nel parco vicino alla scuola è installata una centralina per la misurazione del livello di polveri sottili PM10 nell'aria. Talvolta la centralina va in uno stato di errore per cui la misurazione delle PM10 fallisce ed il dato corrispondente riporta il valore 9999.9 all'interno dell'array delle misurazioni dati. Creare un array di 1000 campioni che generino dei valori secondo una distribuzione normale con valore medio 19 e varianza 5 e supporre che la centralina sia andata in errore 20 volte. La distribuzione gaussiana è una buona approssimazione dei dati reali della centralina?"
   ]
  },
  {
   "cell_type": "code",
   "execution_count": null,
   "id": "3aae24c3",
   "metadata": {},
   "outputs": [],
   "source": [
    "misurazioni = np.array(np.random.normal(19, np.sqrt(5), 10000))\n",
    "k = np.random.randint(0, 999+1, 20)\n",
    "h = np.random.choise(range(1000), 20)\n",
    "misurazioni[k] = 9999.9"
   ]
  }
 ],
 "metadata": {
  "kernelspec": {
   "display_name": "Python 3",
   "language": "python",
   "name": "python3"
  },
  "language_info": {
   "codemirror_mode": {
    "name": "ipython",
    "version": 3
   },
   "file_extension": ".py",
   "mimetype": "text/x-python",
   "name": "python",
   "nbconvert_exporter": "python",
   "pygments_lexer": "ipython3",
   "version": "3.8.8"
  }
 },
 "nbformat": 4,
 "nbformat_minor": 5
}
