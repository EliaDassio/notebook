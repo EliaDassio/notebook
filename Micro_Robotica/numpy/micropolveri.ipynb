{
 "cells": [
  {
   "cell_type": "markdown",
   "id": "ebf7777b",
   "metadata": {},
   "source": [
    "Usiamo Numpy per creare dei dati simulati riferiti ad una situazione reale: in certi casi i dati simulati sono una buona approssimazione della realtà. Nel parco vicino alla scuola è installata una centralina per la misurazione del livello di polveri sottili PM10 nell'aria. Talvolta la centralina va in uno stato di errore per cui la misurazione delle PM10 fallisce ed il dato corrispondente riporta il valore 9999.9 all'interno dell'array delle misurazioni dati. Creare un array di 1000 campioni che generino dei valori secondo una distribuzione normale con valore medio 19 e varianza 5 e supporre che la centralina sia andata in errore 20 volte. La distribuzione gaussiana è una buona approssimazione dei dati reali della centralina?"
   ]
  },
  {
   "cell_type": "code",
   "execution_count": 1,
   "id": "5636af39",
   "metadata": {},
   "outputs": [],
   "source": [
    "import numpy as np"
   ]
  },
  {
   "cell_type": "code",
   "execution_count": null,
   "id": "f4a4a6fc",
   "metadata": {},
   "outputs": [],
   "source": []
  }
 ],
 "metadata": {
  "kernelspec": {
   "display_name": "Python 3",
   "language": "python",
   "name": "python3"
  },
  "language_info": {
   "codemirror_mode": {
    "name": "ipython",
    "version": 3
   },
   "file_extension": ".py",
   "mimetype": "text/x-python",
   "name": "python",
   "nbconvert_exporter": "python",
   "pygments_lexer": "ipython3",
   "version": "3.8.8"
  }
 },
 "nbformat": 4,
 "nbformat_minor": 5
}
