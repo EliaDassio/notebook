{
 "cells": [
  {
   "cell_type": "code",
   "execution_count": 1,
   "id": "28253d32",
   "metadata": {},
   "outputs": [],
   "source": [
    "import numpy as np\n",
    "import random"
   ]
  },
  {
   "cell_type": "markdown",
   "id": "1e277366",
   "metadata": {},
   "source": [
    "1 Robot impazzito\n",
    "\n",
    "Un braccio robotico industriale libero di muoversi avanti e indietro\n",
    "lungo una rotaia è impazzito. Ogni secondo si muove scegliendo a caso\n",
    "tra due possibili movimenti: 1 cm in avanti, oppure 1 cm indietro. Non è\n",
    "possibile togliere corrente al robot senza bloccare tutto lo\n",
    "stabilimento, quindi bisogna attendere lo spegnimento che si effettua\n",
    "tutti i finesettimana e oggi purtroppo è lunedì! Il nostro responsabile\n",
    "ci chiede di simulare lo spostamento totale che il robot avrà effettuato\n",
    "dopo 5 interi giorni di pazzia. Il robot è partito dalla posizione\n",
    "centrale della rotaia avente coordinata 0cm."
   ]
  },
  {
   "cell_type": "code",
   "execution_count": 2,
   "id": "552e1418",
   "metadata": {},
   "outputs": [],
   "source": [
    "seconds_5_days = 5*24*60*60\n",
    "steps = [1,-1]"
   ]
  },
  {
   "cell_type": "code",
   "execution_count": 3,
   "id": "8bfbba52",
   "metadata": {},
   "outputs": [
    {
     "data": {
      "text/plain": [
       "156"
      ]
     },
     "execution_count": 3,
     "metadata": {},
     "output_type": "execute_result"
    }
   ],
   "source": [
    "movement_generator = np.random.choice(steps, seconds_5_days)\n",
    "\n",
    "movement = np.sum(movement_generator)\n",
    "movement"
   ]
  },
  {
   "cell_type": "code",
   "execution_count": 4,
   "id": "1058865d",
   "metadata": {},
   "outputs": [
    {
     "data": {
      "text/plain": [
       "560"
      ]
     },
     "execution_count": 4,
     "metadata": {},
     "output_type": "execute_result"
    }
   ],
   "source": [
    "movement = 0\n",
    "for _ in range(seconds_5_days):\n",
    "    movement += random.choice(steps)\n",
    "    \n",
    "movement"
   ]
  },
  {
   "cell_type": "markdown",
   "id": "04ad611a",
   "metadata": {},
   "source": [
    "2 Consideriamo mille classi da 25 alunni ciascuna: per ognuna di esse simuliamo il giorno di nascita di ciascun alunno estraendo un numero a caso tra 0 e 364 inclusi (i giorni dell'anno non bisestile sono 365): calcolare in quante delle mille classi ci sono almeno due alunni nati lo stesso giorno."
   ]
  },
  {
   "cell_type": "code",
   "execution_count": 5,
   "id": "69402d5c",
   "metadata": {},
   "outputs": [],
   "source": [
    "num_class = 1000\n",
    "num_students = 25"
   ]
  },
  {
   "cell_type": "code",
   "execution_count": 6,
   "id": "aa041450",
   "metadata": {},
   "outputs": [
    {
     "data": {
      "text/plain": [
       "13"
      ]
     },
     "execution_count": 6,
     "metadata": {},
     "output_type": "execute_result"
    }
   ],
   "source": [
    "num_class_students_born_same_day = 0\n",
    "\n",
    "for _ in range(num_class):\n",
    "    date_students = np.random.randint(1,365, num_students)\n",
    "    unique, counts = np.unique(date_students, return_counts=True)\n",
    "    if np.count_nonzero(counts > 2) > 0:\n",
    "        num_class_students_born_same_day += 1\n",
    "        \n",
    "num_class_students_born_same_day"
   ]
  },
  {
   "cell_type": "code",
   "execution_count": 7,
   "id": "e4b4bc9b",
   "metadata": {},
   "outputs": [
    {
     "data": {
      "text/plain": [
       "575"
      ]
     },
     "execution_count": 7,
     "metadata": {},
     "output_type": "execute_result"
    }
   ],
   "source": [
    "num_class_students_born_same_day = 0\n",
    "\n",
    "for _ in range(num_class):\n",
    "    \n",
    "    date_students = []\n",
    "    for _ in range(num_students):\n",
    "        date_students.append(random.randint(0,365))\n",
    "        \n",
    "    a_set = set(date_students)\n",
    "    contains_duplicates = len(date_students) != len(a_set)\n",
    "\n",
    "    if contains_duplicates:\n",
    "        num_class_students_born_same_day += 1\n",
    "        \n",
    "num_class_students_born_same_day"
   ]
  },
  {
   "cell_type": "markdown",
   "id": "7c764bff",
   "metadata": {},
   "source": [
    "3 Dato un array monodimensionale di numeri, trovare la posizione di tutti i massimi locali. Ad esempio, dato l'array a = [0, 2, 1, 1, 3, 2], 2 e 3 sono massimi locali rispettivamente nelle posizioni 1 e 4."
   ]
  },
  {
   "cell_type": "code",
   "execution_count": 8,
   "id": "10cced63",
   "metadata": {},
   "outputs": [],
   "source": [
    "array = [1,4,5,2,6,7,3,45,8,9]"
   ]
  },
  {
   "cell_type": "code",
   "execution_count": 9,
   "id": "ffe99519",
   "metadata": {},
   "outputs": [
    {
     "name": "stdout",
     "output_type": "stream",
     "text": [
      "[ 4  5  6  7 45  9]\n",
      "[1 2 4 5 7 9]\n"
     ]
    }
   ],
   "source": [
    "np_array = np.array(array)\n",
    "array_index = np.arange(0, len(array))\n",
    "bool_index = np.r_[True, np_array[1:] < np_array[:-1]] & np.r_[np_array[:-1] < np_array[1:], True]\n",
    "bool_index = np.invert(bool_index)\n",
    "\n",
    "print(np_array[bool_index])\n",
    "print(array_index[bool_index])"
   ]
  },
  {
   "cell_type": "code",
   "execution_count": 10,
   "id": "1a156d23",
   "metadata": {},
   "outputs": [
    {
     "data": {
      "text/plain": [
       "{1: 4, 2: 5, 4: 6, 5: 7, 7: 45, 9: 9}"
      ]
     },
     "execution_count": 10,
     "metadata": {},
     "output_type": "execute_result"
    }
   ],
   "source": [
    "dict_num_places = {}\n",
    "num_prec = array[0]\n",
    "\n",
    "for i, val in enumerate(array):\n",
    "    if val > num_prec:\n",
    "        dict_num_places[i] = val\n",
    "    num_prec = val\n",
    "    \n",
    "dict_num_places"
   ]
  },
  {
   "cell_type": "markdown",
   "id": "0e6ea54e",
   "metadata": {},
   "source": [
    "4 Dato un array monodimensionale di numeri interi compresi tra 0 e 9, generato casualmente, trovare le posizioni dell'array in cui compare la sequenza di numeri [1, 2, 3]."
   ]
  },
  {
   "cell_type": "code",
   "execution_count": 11,
   "id": "df2d4a83",
   "metadata": {},
   "outputs": [],
   "source": [
    "array = np.random.randint(0,9,1000)"
   ]
  },
  {
   "cell_type": "code",
   "execution_count": 19,
   "id": "049f5f76",
   "metadata": {},
   "outputs": [],
   "source": [
    "def search_sequence_numpy(arr,seq):\n",
    "    Na, Nseq = arr.size, seq.size\n",
    "    r_seq = np.arange(Nseq)\n",
    "    M = (arr[np.arange(Na-Nseq+1)[:,None] + r_seq] == seq).all(1)\n",
    "    if M.any() >0:\n",
    "        return np.where(np.convolve(M,np.ones((Nseq),dtype=int))>0)[0]\n",
    "    else:\n",
    "        return []"
   ]
  },
  {
   "cell_type": "code",
   "execution_count": 20,
   "id": "b6bad207",
   "metadata": {},
   "outputs": [
    {
     "name": "stdout",
     "output_type": "stream",
     "text": [
      "[0, 8, 7, 1, 0, 6, 1, 0, 7, 4, 0, 0, 6, 1, 0, 2, 5, 6, 5, 0, 2, 4, 8, 6, 1, 6, 8, 6, 4, 5, 6, 7, 4, 4, 0, 6, 4, 5, 6, 5, 0, 1, 1, 8, 4, 2, 0, 5, 0, 2, 8, 6, 8, 6, 8, 5, 6, 1, 6, 1, 7, 8, 0, 8, 1, 7, 2, 7, 4, 5, 7, 4, 2, 3, 4, 3, 6, 4, 3, 3, 3, 7, 7, 5, 6, 5, 8, 8, 2, 5, 4, 2, 0, 8, 2, 2, 5, 5, 4, 0, 4, 6, 0, 6, 4, 3, 3, 8, 8, 0, 3, 2, 4, 4, 3, 5, 7, 6, 8, 5, 8, 1, 2, 0, 8, 1, 6, 0, 0, 0, 1, 3, 0, 2, 6, 5, 7, 8, 5, 0, 4, 4, 4, 7, 3, 4, 2, 5, 0, 1, 7, 3, 4, 4, 3, 7, 2, 5, 7, 5, 0, 2, 8, 7, 7, 3, 3, 1, 5, 7, 7, 1, 4, 4, 5, 0, 2, 5, 5, 8, 0, 2, 5, 3, 7, 0, 8, 8, 8, 5, 3, 1, 1, 2, 5, 0, 7, 3, 5, 6, 5, 1, 8, 7, 0, 5, 7, 8, 3, 2, 3, 7, 8, 3, 7, 3, 3, 1, 0, 0, 3, 5, 5, 5, 0, 2, 7, 6, 1, 0, 5, 4, 0, 5, 0, 7, 4, 4, 7, 6, 4, 4, 1, 7, 2, 8, 3, 5, 2, 6, 6, 7, 4, 8, 4, 2, 4, 5, 4, 0, 5, 3, 2, 5, 8, 4, 7, 5, 3, 8, 3, 1, 2, 7, 1, 1, 1, 0, 0, 3, 3, 3, 2, 0, 3, 3, 5, 1, 6, 3, 0, 6, 8, 0, 6, 7, 7, 8, 2, 0, 3, 3, 6, 5, 4, 6, 8, 6, 2, 7, 0, 0, 4, 2, 1, 4, 0, 5, 3, 8, 3, 6, 5, 0, 2, 6, 2, 0, 7, 8, 5, 7, 3, 6, 8, 8, 2, 2, 2, 1, 1, 3, 4, 6, 0, 7, 3, 5, 8, 4, 5, 5, 6, 2, 7, 2, 5, 3, 1, 5, 5, 3, 2, 6, 5, 6, 8, 6, 5, 7, 6, 5, 8, 7, 8, 6, 7, 5, 5, 2, 4, 6, 3, 5, 3, 0, 7, 7, 6, 0, 0, 0, 3, 4, 5, 8, 0, 1, 4, 7, 3, 3, 3, 5, 7, 4, 0, 7, 4, 3, 6, 3, 3, 8, 7, 7, 7, 7, 3, 1, 8, 4, 1, 0, 8, 0, 7, 3, 1, 6, 7, 8, 6, 6, 4, 4, 3, 6, 3, 2, 7, 3, 4, 0, 3, 4, 3, 8, 8, 6, 4, 4, 0, 6, 4, 1, 2, 1, 7, 3, 8, 3, 5, 6, 7, 0, 6, 5, 2, 1, 6, 5, 2, 1, 7, 4, 8, 7, 7, 6, 6, 1, 3, 5, 8, 8, 2, 5, 8, 0, 2, 1, 7, 5, 4, 7, 2, 3, 7, 4, 8, 8, 6, 5, 4, 6, 3, 7, 1, 4, 3, 6, 1, 3, 0, 0, 0, 6, 1, 0, 5, 8, 5, 8, 1, 7, 0, 5, 3, 3, 7, 7, 3, 0, 2, 7, 2, 0, 4, 3, 6, 6, 3, 5, 6, 4, 2, 1, 5, 2, 7, 7, 1, 2, 5, 0, 5, 0, 6, 1, 4, 4, 8, 4, 2, 1, 3, 3, 1, 2, 8, 1, 2, 5, 3, 0, 4, 5, 7, 7, 3, 0, 6, 8, 5, 4, 4, 5, 8, 0, 6, 1, 8, 4, 2, 4, 3, 7, 0, 2, 1, 3, 4, 0, 6, 3, 0, 0, 6, 6, 1, 2, 7, 5, 2, 0, 1, 0, 4, 1, 8, 8, 6, 3, 2, 8, 1, 7, 3, 7, 2, 4, 4, 6, 4, 4, 5, 6, 7, 6, 6, 1, 8, 6, 7, 5, 6, 7, 2, 5, 8, 1, 0, 1, 1, 3, 4, 8, 5, 1, 0, 0, 7, 5, 8, 6, 7, 2, 3, 8, 0, 6, 1, 3, 0, 2, 6, 0, 3, 0, 7, 4, 8, 2, 5, 2, 3, 0, 5, 1, 2, 4, 7, 4, 6, 5, 1, 7, 2, 6, 7, 1, 7, 7, 8, 5, 6, 1, 2, 4, 0, 2, 0, 3, 5, 5, 6, 3, 0, 8, 0, 8, 0, 2, 5, 0, 2, 3, 4, 2, 0, 6, 1, 0, 0, 0, 8, 0, 1, 0, 4, 1, 8, 0, 4, 6, 6, 0, 3, 5, 0, 8, 0, 5, 8, 8, 6, 4, 6, 8, 7, 1, 5, 7, 7, 3, 7, 8, 3, 2, 8, 7, 6, 1, 0, 2, 4, 6, 1, 7, 6, 4, 2, 4, 7, 6, 1, 5, 2, 5, 3, 5, 5, 3, 3, 6, 6, 4, 4, 6, 3, 1, 5, 5, 3, 7, 3, 7, 6, 5, 7, 4, 7, 5, 5, 1, 8, 1, 2, 2, 7, 2, 4, 0, 7, 7, 5, 1, 1, 4, 8, 5, 8, 5, 3, 2, 7, 5, 1, 5, 7, 8, 8, 3, 0, 7, 0, 1, 0, 3, 3, 5, 7, 2, 0, 0, 1, 7, 3, 1, 6, 4, 6, 1, 4, 1, 7, 7, 4, 7, 1, 3, 6, 6, 3, 6, 7, 0, 7, 1, 7, 0, 7, 4, 0, 8, 7, 6, 3, 5, 6, 1, 1, 1, 7, 1, 5, 1, 1, 3, 4, 3, 6, 5, 5, 2, 3, 8, 3, 5, 0, 6, 4, 2, 7, 5, 5, 5, 8, 5, 7, 3, 8, 2, 4, 5, 2, 8, 3, 3, 2, 6, 0, 1, 7, 5, 3, 1, 8, 6, 5, 7, 7, 1, 3, 2, 2, 0, 8, 2, 2, 5, 3, 1, 3, 2, 6, 1, 7, 1, 0, 1, 0, 0, 7, 8, 5, 6, 7, 4, 7, 0, 3, 4, 3, 7, 3, 0, 6, 4, 3, 8, 3, 3, 7, 6, 4, 3, 6, 1, 6, 6, 5, 3, 7, 7, 7, 5, 4, 3]\n"
     ]
    },
    {
     "ename": "AttributeError",
     "evalue": "'list' object has no attribute 'size'",
     "output_type": "error",
     "traceback": [
      "\u001b[1;31m---------------------------------------------------------------------------\u001b[0m",
      "\u001b[1;31mAttributeError\u001b[0m                            Traceback (most recent call last)",
      "\u001b[1;32m<ipython-input-20-0e2e6d8f7bc7>\u001b[0m in \u001b[0;36m<module>\u001b[1;34m\u001b[0m\n\u001b[0;32m      1\u001b[0m \u001b[0mprint\u001b[0m\u001b[1;33m(\u001b[0m\u001b[0marray\u001b[0m\u001b[1;33m)\u001b[0m\u001b[1;33m\u001b[0m\u001b[1;33m\u001b[0m\u001b[0m\n\u001b[1;32m----> 2\u001b[1;33m \u001b[0msearch_sequence_numpy\u001b[0m\u001b[1;33m(\u001b[0m\u001b[0marray\u001b[0m\u001b[1;33m,\u001b[0m \u001b[0mnp\u001b[0m\u001b[1;33m.\u001b[0m\u001b[0marray\u001b[0m\u001b[1;33m(\u001b[0m\u001b[1;33m[\u001b[0m\u001b[1;36m1\u001b[0m\u001b[1;33m,\u001b[0m\u001b[1;36m2\u001b[0m\u001b[1;33m,\u001b[0m\u001b[1;36m3\u001b[0m\u001b[1;33m]\u001b[0m\u001b[1;33m)\u001b[0m\u001b[1;33m)\u001b[0m\u001b[1;33m\u001b[0m\u001b[1;33m\u001b[0m\u001b[0m\n\u001b[0m",
      "\u001b[1;32m<ipython-input-19-f37a959a37be>\u001b[0m in \u001b[0;36msearch_sequence_numpy\u001b[1;34m(arr, seq)\u001b[0m\n\u001b[0;32m      1\u001b[0m \u001b[1;32mdef\u001b[0m \u001b[0msearch_sequence_numpy\u001b[0m\u001b[1;33m(\u001b[0m\u001b[0marr\u001b[0m\u001b[1;33m,\u001b[0m\u001b[0mseq\u001b[0m\u001b[1;33m)\u001b[0m\u001b[1;33m:\u001b[0m\u001b[1;33m\u001b[0m\u001b[1;33m\u001b[0m\u001b[0m\n\u001b[1;32m----> 2\u001b[1;33m     \u001b[0mNa\u001b[0m\u001b[1;33m,\u001b[0m \u001b[0mNseq\u001b[0m \u001b[1;33m=\u001b[0m \u001b[0marr\u001b[0m\u001b[1;33m.\u001b[0m\u001b[0msize\u001b[0m\u001b[1;33m,\u001b[0m \u001b[0mseq\u001b[0m\u001b[1;33m.\u001b[0m\u001b[0msize\u001b[0m\u001b[1;33m\u001b[0m\u001b[1;33m\u001b[0m\u001b[0m\n\u001b[0m\u001b[0;32m      3\u001b[0m     \u001b[0mr_seq\u001b[0m \u001b[1;33m=\u001b[0m \u001b[0mnp\u001b[0m\u001b[1;33m.\u001b[0m\u001b[0marange\u001b[0m\u001b[1;33m(\u001b[0m\u001b[0mNseq\u001b[0m\u001b[1;33m)\u001b[0m\u001b[1;33m\u001b[0m\u001b[1;33m\u001b[0m\u001b[0m\n\u001b[0;32m      4\u001b[0m     \u001b[0mM\u001b[0m \u001b[1;33m=\u001b[0m \u001b[1;33m(\u001b[0m\u001b[0marr\u001b[0m\u001b[1;33m[\u001b[0m\u001b[0mnp\u001b[0m\u001b[1;33m.\u001b[0m\u001b[0marange\u001b[0m\u001b[1;33m(\u001b[0m\u001b[0mNa\u001b[0m\u001b[1;33m-\u001b[0m\u001b[0mNseq\u001b[0m\u001b[1;33m+\u001b[0m\u001b[1;36m1\u001b[0m\u001b[1;33m)\u001b[0m\u001b[1;33m[\u001b[0m\u001b[1;33m:\u001b[0m\u001b[1;33m,\u001b[0m\u001b[1;32mNone\u001b[0m\u001b[1;33m]\u001b[0m \u001b[1;33m+\u001b[0m \u001b[0mr_seq\u001b[0m\u001b[1;33m]\u001b[0m \u001b[1;33m==\u001b[0m \u001b[0mseq\u001b[0m\u001b[1;33m)\u001b[0m\u001b[1;33m.\u001b[0m\u001b[0mall\u001b[0m\u001b[1;33m(\u001b[0m\u001b[1;36m1\u001b[0m\u001b[1;33m)\u001b[0m\u001b[1;33m\u001b[0m\u001b[1;33m\u001b[0m\u001b[0m\n\u001b[0;32m      5\u001b[0m     \u001b[1;32mif\u001b[0m \u001b[0mM\u001b[0m\u001b[1;33m.\u001b[0m\u001b[0many\u001b[0m\u001b[1;33m(\u001b[0m\u001b[1;33m)\u001b[0m \u001b[1;33m>\u001b[0m\u001b[1;36m0\u001b[0m\u001b[1;33m:\u001b[0m\u001b[1;33m\u001b[0m\u001b[1;33m\u001b[0m\u001b[0m\n",
      "\u001b[1;31mAttributeError\u001b[0m: 'list' object has no attribute 'size'"
     ]
    }
   ],
   "source": [
    "print(array)\n",
    "search_sequence_numpy(array, np.array([1,2,3]))"
   ]
  },
  {
   "cell_type": "code",
   "execution_count": 14,
   "id": "fed3128c",
   "metadata": {},
   "outputs": [
    {
     "name": "stdout",
     "output_type": "stream",
     "text": [
      "[0, 8, 7, 1, 0, 6, 1, 0, 7, 4, 0, 0, 6, 1, 0, 2, 5, 6, 5, 0, 2, 4, 8, 6, 1, 6, 8, 6, 4, 5, 6, 7, 4, 4, 0, 6, 4, 5, 6, 5, 0, 1, 1, 8, 4, 2, 0, 5, 0, 2, 8, 6, 8, 6, 8, 5, 6, 1, 6, 1, 7, 8, 0, 8, 1, 7, 2, 7, 4, 5, 7, 4, 2, 3, 4, 3, 6, 4, 3, 3, 3, 7, 7, 5, 6, 5, 8, 8, 2, 5, 4, 2, 0, 8, 2, 2, 5, 5, 4, 0, 4, 6, 0, 6, 4, 3, 3, 8, 8, 0, 3, 2, 4, 4, 3, 5, 7, 6, 8, 5, 8, 1, 2, 0, 8, 1, 6, 0, 0, 0, 1, 3, 0, 2, 6, 5, 7, 8, 5, 0, 4, 4, 4, 7, 3, 4, 2, 5, 0, 1, 7, 3, 4, 4, 3, 7, 2, 5, 7, 5, 0, 2, 8, 7, 7, 3, 3, 1, 5, 7, 7, 1, 4, 4, 5, 0, 2, 5, 5, 8, 0, 2, 5, 3, 7, 0, 8, 8, 8, 5, 3, 1, 1, 2, 5, 0, 7, 3, 5, 6, 5, 1, 8, 7, 0, 5, 7, 8, 3, 2, 3, 7, 8, 3, 7, 3, 3, 1, 0, 0, 3, 5, 5, 5, 0, 2, 7, 6, 1, 0, 5, 4, 0, 5, 0, 7, 4, 4, 7, 6, 4, 4, 1, 7, 2, 8, 3, 5, 2, 6, 6, 7, 4, 8, 4, 2, 4, 5, 4, 0, 5, 3, 2, 5, 8, 4, 7, 5, 3, 8, 3, 1, 2, 7, 1, 1, 1, 0, 0, 3, 3, 3, 2, 0, 3, 3, 5, 1, 6, 3, 0, 6, 8, 0, 6, 7, 7, 8, 2, 0, 3, 3, 6, 5, 4, 6, 8, 6, 2, 7, 0, 0, 4, 2, 1, 4, 0, 5, 3, 8, 3, 6, 5, 0, 2, 6, 2, 0, 7, 8, 5, 7, 3, 6, 8, 8, 2, 2, 2, 1, 1, 3, 4, 6, 0, 7, 3, 5, 8, 4, 5, 5, 6, 2, 7, 2, 5, 3, 1, 5, 5, 3, 2, 6, 5, 6, 8, 6, 5, 7, 6, 5, 8, 7, 8, 6, 7, 5, 5, 2, 4, 6, 3, 5, 3, 0, 7, 7, 6, 0, 0, 0, 3, 4, 5, 8, 0, 1, 4, 7, 3, 3, 3, 5, 7, 4, 0, 7, 4, 3, 6, 3, 3, 8, 7, 7, 7, 7, 3, 1, 8, 4, 1, 0, 8, 0, 7, 3, 1, 6, 7, 8, 6, 6, 4, 4, 3, 6, 3, 2, 7, 3, 4, 0, 3, 4, 3, 8, 8, 6, 4, 4, 0, 6, 4, 1, 2, 1, 7, 3, 8, 3, 5, 6, 7, 0, 6, 5, 2, 1, 6, 5, 2, 1, 7, 4, 8, 7, 7, 6, 6, 1, 3, 5, 8, 8, 2, 5, 8, 0, 2, 1, 7, 5, 4, 7, 2, 3, 7, 4, 8, 8, 6, 5, 4, 6, 3, 7, 1, 4, 3, 6, 1, 3, 0, 0, 0, 6, 1, 0, 5, 8, 5, 8, 1, 7, 0, 5, 3, 3, 7, 7, 3, 0, 2, 7, 2, 0, 4, 3, 6, 6, 3, 5, 6, 4, 2, 1, 5, 2, 7, 7, 1, 2, 5, 0, 5, 0, 6, 1, 4, 4, 8, 4, 2, 1, 3, 3, 1, 2, 8, 1, 2, 5, 3, 0, 4, 5, 7, 7, 3, 0, 6, 8, 5, 4, 4, 5, 8, 0, 6, 1, 8, 4, 2, 4, 3, 7, 0, 2, 1, 3, 4, 0, 6, 3, 0, 0, 6, 6, 1, 2, 7, 5, 2, 0, 1, 0, 4, 1, 8, 8, 6, 3, 2, 8, 1, 7, 3, 7, 2, 4, 4, 6, 4, 4, 5, 6, 7, 6, 6, 1, 8, 6, 7, 5, 6, 7, 2, 5, 8, 1, 0, 1, 1, 3, 4, 8, 5, 1, 0, 0, 7, 5, 8, 6, 7, 2, 3, 8, 0, 6, 1, 3, 0, 2, 6, 0, 3, 0, 7, 4, 8, 2, 5, 2, 3, 0, 5, 1, 2, 4, 7, 4, 6, 5, 1, 7, 2, 6, 7, 1, 7, 7, 8, 5, 6, 1, 2, 4, 0, 2, 0, 3, 5, 5, 6, 3, 0, 8, 0, 8, 0, 2, 5, 0, 2, 3, 4, 2, 0, 6, 1, 0, 0, 0, 8, 0, 1, 0, 4, 1, 8, 0, 4, 6, 6, 0, 3, 5, 0, 8, 0, 5, 8, 8, 6, 4, 6, 8, 7, 1, 5, 7, 7, 3, 7, 8, 3, 2, 8, 7, 6, 1, 0, 2, 4, 6, 1, 7, 6, 4, 2, 4, 7, 6, 1, 5, 2, 5, 3, 5, 5, 3, 3, 6, 6, 4, 4, 6, 3, 1, 5, 5, 3, 7, 3, 7, 6, 5, 7, 4, 7, 5, 5, 1, 8, 1, 2, 2, 7, 2, 4, 0, 7, 7, 5, 1, 1, 4, 8, 5, 8, 5, 3, 2, 7, 5, 1, 5, 7, 8, 8, 3, 0, 7, 0, 1, 0, 3, 3, 5, 7, 2, 0, 0, 1, 7, 3, 1, 6, 4, 6, 1, 4, 1, 7, 7, 4, 7, 1, 3, 6, 6, 3, 6, 7, 0, 7, 1, 7, 0, 7, 4, 0, 8, 7, 6, 3, 5, 6, 1, 1, 1, 7, 1, 5, 1, 1, 3, 4, 3, 6, 5, 5, 2, 3, 8, 3, 5, 0, 6, 4, 2, 7, 5, 5, 5, 8, 5, 7, 3, 8, 2, 4, 5, 2, 8, 3, 3, 2, 6, 0, 1, 7, 5, 3, 1, 8, 6, 5, 7, 7, 1, 3, 2, 2, 0, 8, 2, 2, 5, 3, 1, 3, 2, 6, 1, 7, 1, 0, 1, 0, 0, 7, 8, 5, 6, 7, 4, 7, 0, 3, 4, 3, 7, 3, 0, 6, 4, 3, 8, 3, 3, 7, 6, 4, 3, 6, 1, 6, 6, 5, 3, 7, 7, 7, 5, 4, 3]\n",
      "[]\n"
     ]
    }
   ],
   "source": [
    "array = list(array)\n",
    "index = []\n",
    "for i in range(1000):\n",
    "    if i<1000-3:\n",
    "        if array[i] == 1 and array[i+1] == 2 and array[i+2] == 3:\n",
    "            for y in range(3):\n",
    "                index.append(i+y) \n",
    "print(array)\n",
    "print(index)"
   ]
  },
  {
   "cell_type": "markdown",
   "id": "5a707963",
   "metadata": {},
   "source": [
    "5 Sul territorio comunale sono installate tre centraline per la misurazione del livello di polveri sottili PM10 nell'aria. Talvolta le centraline vanno in uno stato di errore per cui la misurazione delle PM10 fallisce ed il dato corrispondente riporta il valore 9999.9 all'interno dell'array delle misurazioni. Inoltre, per motivi sconosciuti, talvolta le centraline riportano il valore -1. Statisticamente si è visto che il primo errore ha una frequenza dello 0.2% mentre il secondo del 0.1%\n",
    "\n",
    "* Creare una matrice avente 3 colonne e le righe contenente i dati di tutte le centraline registrati nelle 24 ore (si registra il dato ogni minuto)\n",
    "* Eliminare tutte le righe della matrice in cui vi sia almeno una misura errata o una misura di origine sconosciuta"
   ]
  },
  {
   "cell_type": "code",
   "execution_count": 15,
   "id": "6738fa87",
   "metadata": {},
   "outputs": [],
   "source": [
    "num_min = 24*60\n",
    "value_0_2_not_percentage = 0.2/100\n",
    "value_0_1_not_percentage = 0.1/100\n",
    "b_9 = 0\n",
    "b_1 = 0"
   ]
  }
 ],
 "metadata": {
  "kernelspec": {
   "display_name": "Python 3",
   "language": "python",
   "name": "python3"
  },
  "language_info": {
   "codemirror_mode": {
    "name": "ipython",
    "version": 3
   },
   "file_extension": ".py",
   "mimetype": "text/x-python",
   "name": "python",
   "nbconvert_exporter": "python",
   "pygments_lexer": "ipython3",
   "version": "3.8.8"
  }
 },
 "nbformat": 4,
 "nbformat_minor": 5
}
