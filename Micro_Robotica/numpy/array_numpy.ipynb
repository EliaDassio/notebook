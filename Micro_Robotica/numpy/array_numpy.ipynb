{
 "cells": [
  {
   "cell_type": "code",
   "execution_count": 2,
   "id": "d3e4ebfe",
   "metadata": {},
   "outputs": [],
   "source": [
    "import numpy as np"
   ]
  },
  {
   "cell_type": "code",
   "execution_count": 4,
   "id": "7b28a828",
   "metadata": {},
   "outputs": [
    {
     "name": "stdout",
     "output_type": "stream",
     "text": [
      "[1 2 3 4 5 6]\n"
     ]
    }
   ],
   "source": [
    "lista = [1,2,3,4,5,6]\n",
    "lista_array = np.array(lista)\n",
    "print(lista_array)"
   ]
  },
  {
   "cell_type": "code",
   "execution_count": 13,
   "id": "43e8ae65",
   "metadata": {},
   "outputs": [
    {
     "data": {
      "text/plain": [
       "array([[0, 0, 0, 0, 0, 0, 0, 0, 0, 0],\n",
       "       [0, 0, 0, 0, 0, 0, 0, 0, 0, 0],\n",
       "       [0, 0, 0, 0, 0, 0, 0, 0, 0, 0],\n",
       "       [0, 0, 0, 0, 0, 0, 0, 0, 0, 0],\n",
       "       [0, 0, 0, 0, 0, 0, 0, 0, 0, 0]])"
      ]
     },
     "execution_count": 13,
     "metadata": {},
     "output_type": "execute_result"
    }
   ],
   "source": [
    "np.zeros((5,10), dtype = int)"
   ]
  },
  {
   "cell_type": "code",
   "execution_count": 11,
   "id": "66cb9896",
   "metadata": {},
   "outputs": [
    {
     "data": {
      "text/plain": [
       "array([[1., 1., 1., 1., 1., 1., 1., 1., 1., 1.],\n",
       "       [1., 1., 1., 1., 1., 1., 1., 1., 1., 1.],\n",
       "       [1., 1., 1., 1., 1., 1., 1., 1., 1., 1.],\n",
       "       [1., 1., 1., 1., 1., 1., 1., 1., 1., 1.],\n",
       "       [1., 1., 1., 1., 1., 1., 1., 1., 1., 1.]])"
      ]
     },
     "execution_count": 11,
     "metadata": {},
     "output_type": "execute_result"
    }
   ],
   "source": [
    "np.ones((5,10), dtype = float)"
   ]
  },
  {
   "cell_type": "code",
   "execution_count": 12,
   "id": "11929cd9",
   "metadata": {},
   "outputs": [
    {
     "data": {
      "text/plain": [
       "array([[1.],\n",
       "       [1.],\n",
       "       [1.],\n",
       "       [1.],\n",
       "       [1.]])"
      ]
     },
     "execution_count": 12,
     "metadata": {},
     "output_type": "execute_result"
    }
   ],
   "source": [
    "np.ones((5,1))"
   ]
  },
  {
   "cell_type": "code",
   "execution_count": 34,
   "id": "22d72d6c",
   "metadata": {},
   "outputs": [
    {
     "data": {
      "text/plain": [
       "0.17156326128007227"
      ]
     },
     "execution_count": 34,
     "metadata": {},
     "output_type": "execute_result"
    }
   ],
   "source": [
    "np.random.uniform()"
   ]
  },
  {
   "cell_type": "code",
   "execution_count": 36,
   "id": "6bb16d38",
   "metadata": {},
   "outputs": [
    {
     "data": {
      "text/plain": [
       "array([[0.98163663, 0.4730765 , 0.57797219, 0.40969981, 0.15545849,\n",
       "        0.64583051, 0.28201387, 0.61733491, 0.18878508, 0.01261068],\n",
       "       [0.19689616, 0.40917503, 0.23796735, 0.21773153, 0.69550307,\n",
       "        0.30056048, 0.56409425, 0.97355926, 0.03909549, 0.83463868],\n",
       "       [0.72587623, 0.70707243, 0.24763045, 0.2586777 , 0.23975571,\n",
       "        0.78707471, 0.25900559, 0.58786876, 0.99036886, 0.54643825],\n",
       "       [0.19648418, 0.00203708, 0.0633671 , 0.44333053, 0.06113699,\n",
       "        0.13133101, 0.60041548, 0.37205016, 0.6798749 , 0.28054683],\n",
       "       [0.84424811, 0.20758001, 0.50671485, 0.03377305, 0.55148528,\n",
       "        0.23146992, 0.079701  , 0.88642249, 0.99503598, 0.45652317]])"
      ]
     },
     "execution_count": 36,
     "metadata": {},
     "output_type": "execute_result"
    }
   ],
   "source": [
    "np.random.uniform(size = (5,10) )"
   ]
  },
  {
   "cell_type": "code",
   "execution_count": 37,
   "id": "a32f46e6",
   "metadata": {},
   "outputs": [
    {
     "data": {
      "text/plain": [
       "array([-0.21329836,  1.60412337,  0.33100357, -0.94893898, -0.98914197,\n",
       "       -2.03364008, -0.1767175 , -2.11580126,  1.26279334, -2.2189745 ])"
      ]
     },
     "execution_count": 37,
     "metadata": {},
     "output_type": "execute_result"
    }
   ],
   "source": [
    "np.random.normal(size = 10)"
   ]
  },
  {
   "cell_type": "code",
   "execution_count": 39,
   "id": "a05ab425",
   "metadata": {},
   "outputs": [
    {
     "data": {
      "text/plain": [
       "array([6.23149462, 6.8836517 , 3.71010792, 8.21545668, 6.56564028,\n",
       "       8.75511293, 6.5711193 , 6.70871888, 5.70915156, 6.66153906])"
      ]
     },
     "execution_count": 39,
     "metadata": {},
     "output_type": "execute_result"
    }
   ],
   "source": [
    "np.random.normal(loc = 10, scale = 5, size = 10)"
   ]
  },
  {
   "cell_type": "code",
   "execution_count": 42,
   "id": "89a9ea5c",
   "metadata": {},
   "outputs": [
    {
     "name": "stderr",
     "output_type": "stream",
     "text": [
      "<ipython-input-42-80f65f1f5c50>:1: DeprecationWarning: This function is deprecated. Please call randint(1, 7 + 1) instead\n",
      "  np.random.random_integers(low = 1, high = 7,size = 10)\n"
     ]
    },
    {
     "data": {
      "text/plain": [
       "array([1, 7, 3, 1, 6, 2, 2, 1, 1, 2])"
      ]
     },
     "execution_count": 42,
     "metadata": {},
     "output_type": "execute_result"
    }
   ],
   "source": [
    "np.random.random_integers(low = 1, high = 7,size = 10)"
   ]
  },
  {
   "cell_type": "code",
   "execution_count": 50,
   "id": "cf01a224",
   "metadata": {},
   "outputs": [],
   "source": [
    "dice_throws1 = np.random.randint(1,7,10000)\n",
    "dice_throws2 = np.random.randint(1,7,10000)"
   ]
  },
  {
   "cell_type": "code",
   "execution_count": 51,
   "id": "a97858cf",
   "metadata": {},
   "outputs": [
    {
     "data": {
      "text/plain": [
       "array([False, False, False, ..., False, False, False])"
      ]
     },
     "execution_count": 51,
     "metadata": {},
     "output_type": "execute_result"
    }
   ],
   "source": [
    "dice_throws1 + dice_throws2 == 8"
   ]
  },
  {
   "cell_type": "code",
   "execution_count": 53,
   "id": "e12d6849",
   "metadata": {},
   "outputs": [
    {
     "data": {
      "text/plain": [
       "array([ 6,  6,  5, ..., 10,  7,  7])"
      ]
     },
     "execution_count": 53,
     "metadata": {},
     "output_type": "execute_result"
    }
   ],
   "source": [
    "dice_throws1 + dice_throws2"
   ]
  },
  {
   "cell_type": "code",
   "execution_count": 54,
   "id": "b865dc02",
   "metadata": {},
   "outputs": [
    {
     "data": {
      "text/plain": [
       "0.1394"
      ]
     },
     "execution_count": 54,
     "metadata": {},
     "output_type": "execute_result"
    }
   ],
   "source": [
    "np.count_nonzero(dice_throws1 + dice_throws2 == 8)/10000"
   ]
  },
  {
   "cell_type": "code",
   "execution_count": 48,
   "id": "3bdbf435",
   "metadata": {},
   "outputs": [
    {
     "data": {
      "text/plain": [
       "0.16666666666666666"
      ]
     },
     "execution_count": 48,
     "metadata": {},
     "output_type": "execute_result"
    }
   ],
   "source": [
    "1./6"
   ]
  },
  {
   "cell_type": "code",
   "execution_count": null,
   "id": "acfe218d",
   "metadata": {},
   "outputs": [],
   "source": []
  }
 ],
 "metadata": {
  "kernelspec": {
   "display_name": "Python 3",
   "language": "python",
   "name": "python3"
  },
  "language_info": {
   "codemirror_mode": {
    "name": "ipython",
    "version": 3
   },
   "file_extension": ".py",
   "mimetype": "text/x-python",
   "name": "python",
   "nbconvert_exporter": "python",
   "pygments_lexer": "ipython3",
   "version": "3.8.8"
  }
 },
 "nbformat": 4,
 "nbformat_minor": 5
}
