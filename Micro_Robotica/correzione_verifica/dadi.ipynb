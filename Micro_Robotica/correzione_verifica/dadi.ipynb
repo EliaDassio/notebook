{
 "cells": [
  {
   "cell_type": "code",
   "execution_count": 2,
   "id": "ac7637c4",
   "metadata": {},
   "outputs": [],
   "source": [
    "import numpy as np"
   ]
  },
  {
   "cell_type": "code",
   "execution_count": 5,
   "id": "08db6fb1",
   "metadata": {},
   "outputs": [],
   "source": [
    "def merenda(n_lanci):\n",
    "    n_vittorie = 0\n",
    "    for _ in range(200):\n",
    "        dado1 = np.random.randint(1, 7, n_lanci)\n",
    "        dado2 = np.random.randint(1, 7, n_lanci)\n",
    "        if np.count_nonzero(dado1+dado2 >= 10) > 0:\n",
    "            n_vittorie = n_vittorie + 1\n",
    "    return n_vittorie"
   ]
  },
  {
   "cell_type": "code",
   "execution_count": 22,
   "id": "b2d28530",
   "metadata": {},
   "outputs": [
    {
     "data": {
      "text/plain": [
       "101"
      ]
     },
     "execution_count": 22,
     "metadata": {},
     "output_type": "execute_result"
    }
   ],
   "source": [
    "merenda(4)"
   ]
  }
 ],
 "metadata": {
  "kernelspec": {
   "display_name": "Python 3",
   "language": "python",
   "name": "python3"
  },
  "language_info": {
   "codemirror_mode": {
    "name": "ipython",
    "version": 3
   },
   "file_extension": ".py",
   "mimetype": "text/x-python",
   "name": "python",
   "nbconvert_exporter": "python",
   "pygments_lexer": "ipython3",
   "version": "3.8.8"
  }
 },
 "nbformat": 4,
 "nbformat_minor": 5
}
