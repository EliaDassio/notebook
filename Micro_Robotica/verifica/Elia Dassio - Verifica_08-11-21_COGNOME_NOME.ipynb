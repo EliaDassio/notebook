{
 "cells": [
  {
   "cell_type": "markdown",
   "id": "58c15881",
   "metadata": {},
   "source": [
    "# Dassio Elia"
   ]
  },
  {
   "cell_type": "markdown",
   "id": "fa2ae6b5",
   "metadata": {},
   "source": [
    "# Esercizio 1\n",
    "Ogni giorno tu e un tuo compagno vi giocate la merenda giornaliera lanciando due dadi a sei facce. Ogni giorno, la merenda è tua se dopo un certo numero `n_lanci` di lanci dei due dadi esce un valore maggiore o uguale a 10. Supponendo 200 giorni di scuola totali, scrivi una funzione che:\n",
    "- faccia uso di della libreria `numpy`;\n",
    "- abbia `n_lanci` come parametro;\n",
    "- restituisca il numero totale di giorni in cui vinci tu la merenda, simulando i lanci dei dadi per i 200 giorni di scuola.\n",
    "\n",
    "**[BONUS]** Quanto deve valere `n_lanci` affinchè il gioco sia equo?\n",
    "\n",
    "# Esercizio 2\n",
    "Creare un notebook jupyter che a partire dal testo contenuto nel file ___\"J_Verne_girodelmondoin80giorni.txt\"___:\n",
    "\n",
    "1. crei un dizionario delle frequenze per ciascun carattere (**line feed escluso**); \n",
    "2. crei il dizionario delle adiacenze per ciascun carattere (**line feed escluso**);\n",
    "3. **[FACOLTATIVO]** crei un indice dei capitoli. Ogni capitolo inizia riportando il numero romano del capitolo e il suo titolo in questo modo:\n",
    "\n",
    ">CAPITOLO XXIX.\n",
    ">\n",
    ">Nel quale si narrano cose che capitano unicamente sulle ferrovie\n",
    ">americane.\n"
   ]
  },
  {
   "cell_type": "markdown",
   "id": "a2565375",
   "metadata": {},
   "source": [
    "# ESERCIZIO 1"
   ]
  },
  {
   "cell_type": "code",
   "execution_count": 2,
   "id": "5a704149",
   "metadata": {},
   "outputs": [],
   "source": [
    "import numpy as np"
   ]
  },
  {
   "cell_type": "code",
   "execution_count": 13,
   "id": "3407fbf8",
   "metadata": {},
   "outputs": [],
   "source": [
    "n_lanci = 4\n",
    "n_days = 200\n",
    "dayly_somme = [n_days]\n",
    "victories = [n_days]"
   ]
  },
  {
   "cell_type": "code",
   "execution_count": 15,
   "id": "601926d3",
   "metadata": {},
   "outputs": [
    {
     "ename": "IndexError",
     "evalue": "list index out of range",
     "output_type": "error",
     "traceback": [
      "\u001b[1;31m---------------------------------------------------------------------------\u001b[0m",
      "\u001b[1;31mIndexError\u001b[0m                                Traceback (most recent call last)",
      "\u001b[1;32m<ipython-input-15-b6a84d53b8a4>\u001b[0m in \u001b[0;36m<module>\u001b[1;34m\u001b[0m\n\u001b[0;32m      5\u001b[0m     \u001b[0mindex\u001b[0m \u001b[1;33m=\u001b[0m \u001b[0mday\u001b[0m\u001b[1;33m\u001b[0m\u001b[1;33m\u001b[0m\u001b[0m\n\u001b[0;32m      6\u001b[0m     \u001b[1;32mfor\u001b[0m \u001b[0mthrow\u001b[0m \u001b[1;32min\u001b[0m \u001b[0mmom_somme\u001b[0m\u001b[1;33m:\u001b[0m\u001b[1;33m\u001b[0m\u001b[1;33m\u001b[0m\u001b[0m\n\u001b[1;32m----> 7\u001b[1;33m         \u001b[0mdayly_somme\u001b[0m\u001b[1;33m[\u001b[0m\u001b[0mindex\u001b[0m\u001b[1;33m]\u001b[0m \u001b[1;33m=\u001b[0m \u001b[0mdayly_somme\u001b[0m\u001b[1;33m[\u001b[0m\u001b[0mindex\u001b[0m\u001b[1;33m]\u001b[0m \u001b[1;33m+\u001b[0m \u001b[0mthrow\u001b[0m\u001b[1;33m\u001b[0m\u001b[1;33m\u001b[0m\u001b[0m\n\u001b[0m",
      "\u001b[1;31mIndexError\u001b[0m: list index out of range"
     ]
    }
   ],
   "source": [
    "for day in range(n_days - 1):\n",
    "    dice_throws1 = np.random.randint(1,7,n_lanci)\n",
    "    dice_throws2 = np.random.randint(1,7,n_lanci)\n",
    "    mom_somme = dice_throws1 + dice_throws2\n",
    "    index = day\n",
    "    for throw in mom_somme:\n",
    "        dayly_somme[index] = dayly_somme[index] + throw   "
   ]
  },
  {
   "cell_type": "code",
   "execution_count": null,
   "id": "e5717099",
   "metadata": {},
   "outputs": [],
   "source": [
    "victories = dayly_somme >= 10"
   ]
  }
 ],
 "metadata": {
  "kernelspec": {
   "display_name": "Python 3",
   "language": "python",
   "name": "python3"
  },
  "language_info": {
   "codemirror_mode": {
    "name": "ipython",
    "version": 3
   },
   "file_extension": ".py",
   "mimetype": "text/x-python",
   "name": "python",
   "nbconvert_exporter": "python",
   "pygments_lexer": "ipython3",
   "version": "3.8.8"
  }
 },
 "nbformat": 4,
 "nbformat_minor": 5
}
